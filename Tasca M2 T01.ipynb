{
 "cells": [
  {
   "cell_type": "markdown",
   "id": "3d6522a3",
   "metadata": {},
   "source": [
    "# Tasca M2 T01"
   ]
  },
  {
   "cell_type": "markdown",
   "id": "f8d6e4dc",
   "metadata": {},
   "source": [
    "### Exercici 1\n",
    "***\n",
    "\n",
    "Crea una llista que agrupi els mesos de l’any en trimestres (1T: gener, febrer i març; 2T: abril, maig, juny...), és a dir, una llista amb 4 llistes dins."
   ]
  },
  {
   "cell_type": "code",
   "execution_count": 39,
   "id": "35a43876",
   "metadata": {},
   "outputs": [
    {
     "name": "stdout",
     "output_type": "stream",
     "text": [
      "(['Gener', 'Febrer', 'Març'], ['Abril', 'Maig', 'Juny'], ['Juliol', 'Agost', 'Setember'], ['Octubre', 'Novembre', 'Decembre'])\n"
     ]
    }
   ],
   "source": [
    "llista_mesos = (['Gener', 'Febrer', 'Març'], \n",
    "                ['Abril', 'Maig', 'Juny'], \n",
    "                ['Juliol', 'Agost', 'Setember'], \n",
    "                ['Octubre', 'Novembre', 'Decembre'])\n",
    "\n",
    "               \n",
    "print(llista_mesos)"
   ]
  },
  {
   "cell_type": "markdown",
   "id": "4e692ab6",
   "metadata": {},
   "source": [
    "### Exercici 2\n",
    "***\n",
    "\n",
    "Crea un codi que et permeti accedir a:"
   ]
  },
  {
   "cell_type": "code",
   "execution_count": 38,
   "id": "91651199",
   "metadata": {},
   "outputs": [
    {
     "name": "stdout",
     "output_type": "stream",
     "text": [
      "El segon mes del primer trimestre: Febrer\n",
      "Els mesos del primer trimestre: ['Gener', 'Febrer', 'Març']\n",
      "Setembre i octubre: ['Setember', 'Octubre']\n"
     ]
    }
   ],
   "source": [
    "\n",
    "segon_mes = llista_mesos[0][1]\n",
    "\n",
    "\n",
    "mesos_1T = llista_mesos[0]\n",
    "\n",
    "\n",
    "s_o = [llista_mesos[2][2], llista_mesos[3][0]]\n",
    "\n",
    "\n",
    "\n",
    "print(\"El segon mes del primer trimestre:\", segon_mes)\n",
    "\n",
    "print(\"Els mesos del primer trimestre:\", mesos_1T)\n",
    "\n",
    "print(\"Setembre i octubre:\", s_o)"
   ]
  },
  {
   "cell_type": "markdown",
   "id": "ac633fd8",
   "metadata": {},
   "source": [
    "### Exercici 3\n",
    "***\n",
    "\n",
    "Crea una llista amb nombres desordenats i respon a les següents preguntes:"
   ]
  },
  {
   "cell_type": "code",
   "execution_count": 31,
   "id": "b043d376",
   "metadata": {},
   "outputs": [
    {
     "name": "stdout",
     "output_type": "stream",
     "text": [
      "[33, 4, 1, 37, 38, 13, 7, 2, 5, 43, 45, 15, 19, 42, 24, 18, 29, 46, 49, 48]\n",
      "Quants números hi ha? 20\n",
      "Quantes vegades apareix el número 3: 0\n",
      "Quantes vegades apareixen els nombres 3 i 4? 0 i 1\n",
      "Quin és el número més gran? 49\n",
      "Quins són els 3 números més petits? [1, 2, 4]\n",
      "Quin és el rang d’aquesta llista? 48\n"
     ]
    }
   ],
   "source": [
    "import random\n",
    "\n",
    "llista = random.sample(range(0,50), 20)\n",
    "\n",
    "num3 = llista.count(3)\n",
    "\n",
    "num4 = llista.count(4)\n",
    "\n",
    "gran = max(llista)\n",
    "\n",
    "peq = sorted(llista)[:3]\n",
    "\n",
    "rang = max(llista) - min(llista)\n",
    "\n",
    "\n",
    "print(llista)\n",
    "\n",
    "print('Quants números hi ha?', len(llista))\n",
    "\n",
    "print('Quantes vegades apareix el número 3:', num3)\n",
    "\n",
    "print('Quantes vegades apareixen els nombres 3 i 4?',num3, 'i', num4)\n",
    "\n",
    "print('Quin és el número més gran?', gran)\n",
    "\n",
    "print('Quins són els 3 números més petits?', peq)\n",
    "\n",
    "print('Quin és el rang d’aquesta llista?', rang)\n"
   ]
  },
  {
   "cell_type": "markdown",
   "id": "5b0b376d",
   "metadata": {},
   "source": [
    "### Exercici 4\n",
    "***\n",
    "\n",
    "Crea un diccionari de la següent forma i respon a les preguntes:"
   ]
  },
  {
   "cell_type": "code",
   "execution_count": 8,
   "id": "feb50fcb",
   "metadata": {},
   "outputs": [
    {
     "name": "stdout",
     "output_type": "stream",
     "text": [
      "Afegeix alguna fruita més: {'Pomes': {'Qty': 5, '€': 0.42}, 'Peres': {'Qty': 3, '€': 0.66}, 'Mandarines': {'Qty': 4, '€': 0.53}}\n",
      "Quant han costat les peres en total? 1.98 €\n",
      "Quantes fruites hem comprat en total? 12\n",
      "Quina és la fruita més cara? ('Peres', 0.66)\n"
     ]
    }
   ],
   "source": [
    "\n",
    "\n",
    "compra = { \"Pomes\" : {\"Qty\": 5, \"€\": 0.42}, \n",
    "          \n",
    "           \"Peres\" : {\"Qty\": 3, \"€\": 0.66} }\n",
    "\n",
    "compra[\"Mandarines\"] = {\"Qty\": 4, \"€\": 0.53}\n",
    "\n",
    "peres_t = compra['Peres']['Qty'] * compra['Peres']['€']\n",
    "\n",
    "\n",
    "# Fruites comprades en total\n",
    "\n",
    "def calcular_total_fruites(compra):\n",
    "    \n",
    "    total_fruites = 0\n",
    "    \n",
    "    for fruita in compra:\n",
    "        \n",
    "        total_fruites += compra[fruita]['Qty']\n",
    "    \n",
    "    return total_fruites\n",
    "\n",
    "total_fruites = calcular_total_fruites(compra)\n",
    "\n",
    "\n",
    "# Fruita més cara\n",
    "\n",
    "def calcular_fruita_cara(compra):\n",
    "    \n",
    "    fruita_mes_cara = None\n",
    "    \n",
    "    preu_mes_alt = 0\n",
    "    \n",
    "    for fruita, preu in compra.items():\n",
    "        \n",
    "        preu_unitari = preu[\"€\"]\n",
    "        \n",
    "        if preu_unitari > preu_mes_alt:\n",
    "            \n",
    "            preu_mes_alt = preu_unitari\n",
    "            \n",
    "            fruita_mes_cara = fruita\n",
    "            \n",
    "    return fruita_mes_cara, preu_mes_alt\n",
    "\n",
    "fruita_mes_cara = calcular_fruita_cara(compra)\n",
    "\n",
    "preu_mes_alt = calcular_fruita_cara(compra)\n",
    "\n",
    "\n",
    "print ('Afegeix alguna fruita més:', compra)\n",
    "\n",
    "print ('Quant han costat les peres en total?', peres_t, '€')\n",
    "\n",
    "print('Quantes fruites hem comprat en total?', total_fruites)\n",
    "\n",
    "print('Quina és la fruita més cara?', fruita_mes_cara)"
   ]
  },
  {
   "cell_type": "code",
   "execution_count": null,
   "id": "523c2156",
   "metadata": {},
   "outputs": [],
   "source": []
  }
 ],
 "metadata": {
  "kernelspec": {
   "display_name": "Python 3 (ipykernel)",
   "language": "python",
   "name": "python3"
  },
  "language_info": {
   "codemirror_mode": {
    "name": "ipython",
    "version": 3
   },
   "file_extension": ".py",
   "mimetype": "text/x-python",
   "name": "python",
   "nbconvert_exporter": "python",
   "pygments_lexer": "ipython3",
   "version": "3.10.9"
  }
 },
 "nbformat": 4,
 "nbformat_minor": 5
}
