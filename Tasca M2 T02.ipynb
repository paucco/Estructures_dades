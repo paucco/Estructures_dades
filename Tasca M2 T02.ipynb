{
 "cells": [
  {
   "cell_type": "markdown",
   "id": "c569251d",
   "metadata": {},
   "source": [
    "# Tasca M2 T02"
   ]
  },
  {
   "cell_type": "markdown",
   "id": "f008eac1",
   "metadata": {},
   "source": [
    "### Exercici 1\n",
    "***\n",
    "L'exercici consisteix a crear una funció que et classifiqui una variable numèrica en funció de l’escala Suspès/Aprovat/Notable/Excel·lent.\n",
    "\n",
    "Recorda que Suspès < 5, Aprovat > 5 i < 7, Notable > 7 i < 9 i Excel·lent > 9."
   ]
  },
  {
   "cell_type": "code",
   "execution_count": 12,
   "id": "9af573ce",
   "metadata": {},
   "outputs": [
    {
     "name": "stdout",
     "output_type": "stream",
     "text": [
      "La nota 8 equival a un Notable\n"
     ]
    }
   ],
   "source": [
    "nota = 8\n",
    "\n",
    "def classif_nota (nota):\n",
    "\n",
    "    if nota < 5 :\n",
    "        return ('Suspès')\n",
    "\n",
    "    elif 5 <= nota < 7 :\n",
    "        return ('Aprovat')\n",
    "    \n",
    "    elif 7 <= nota < 9 :\n",
    "        return ('Notable')\n",
    "        \n",
    "    else:\n",
    "        return ('Excel·lent')\n",
    "        \n",
    "\n",
    "nota_final = classif_nota (nota)\n",
    "\n",
    "print (f'La nota {nota} equival a un {nota_final}')"
   ]
  },
  {
   "cell_type": "markdown",
   "id": "e37b7bae",
   "metadata": {},
   "source": [
    "### Exercici 2\n",
    "***\n",
    "\n",
    "Utilitzant el següent tutorial crea una funció que et pregunti dos números. T’ha de mostrar un missatge dient si el primer és més gran, el segon és més gran o són iguals."
   ]
  },
  {
   "cell_type": "code",
   "execution_count": 11,
   "id": "baf0e809",
   "metadata": {},
   "outputs": [
    {
     "name": "stdout",
     "output_type": "stream",
     "text": [
      "Escriu un número A:9\n",
      "Escriu un número B:4\n",
      "El número A (9) és més gran que el número B (4)\n"
     ]
    }
   ],
   "source": [
    "num1 = int(input(\"Escriu un número A:\"))\n",
    "\n",
    "num2 = int(input(\"Escriu un número B:\"))\n",
    "\n",
    "\n",
    "def pregunta(num1, num2):\n",
    "    \n",
    "    if num1 > num2 :\n",
    "        print ('El número A ({}) és més gran que el número B ({})'.format(num1, num2))\n",
    "    elif num1 < num2 :\n",
    "        print ('El número A ({}) és més petit que el número B ({})'.format(num1, num2))\n",
    "    else :\n",
    "        print ('El número A ({}) és igual al número B ({})'.format(num1, num2))\n",
    "    \n",
    "pregunta(num1, num2)\n"
   ]
  },
  {
   "cell_type": "markdown",
   "id": "ebfb6192",
   "metadata": {},
   "source": [
    "### Exercici 3\n",
    "***\n",
    "\n",
    "Crea una funció que et pregunti el teu nom, i et demani un número. Si el número és 0, hauria de mostrar un missatge d’error. En cas contrari, hauria de mostrar el nom repetit tants cops com indiqui el número. Per exemple, “Joan Joan Joan”."
   ]
  },
  {
   "cell_type": "code",
   "execution_count": 16,
   "id": "ec323ff9",
   "metadata": {},
   "outputs": [
    {
     "name": "stdout",
     "output_type": "stream",
     "text": [
      "Escriu el teu nom:Paula\n",
      "Escriu un número:5\n",
      "Paula Paula Paula Paula Paula \n"
     ]
    }
   ],
   "source": [
    "nom = input('Escriu el teu nom:')\n",
    "numero = int(input('Escriu un número:'))\n",
    "\n",
    "def funcio(nom, numero):\n",
    "    \n",
    "    if numero <= 0:\n",
    "        print('Error')\n",
    "        \n",
    "    elif numero > 0:\n",
    "        resultat = (nom + ' ') * numero\n",
    "        print(resultat)\n",
    "        \n",
    "funcio(nom, numero)"
   ]
  },
  {
   "cell_type": "markdown",
   "id": "f011e4c6",
   "metadata": {},
   "source": [
    "### Exercici 4\n",
    "***\n",
    "\n",
    "Crea una funció que donada una llista qualsevol, et digui si és simètrica o no. Si ho és, que et digui quants elements té."
   ]
  },
  {
   "cell_type": "code",
   "execution_count": 10,
   "id": "776155fa",
   "metadata": {},
   "outputs": [
    {
     "name": "stdout",
     "output_type": "stream",
     "text": [
      "[1, 3, 4, 8, 4, 3, 1]\n",
      "La llista és simètrica i té 7 elements\n"
     ]
    }
   ],
   "source": [
    "llista = [1,3,4,8,4,3,1]\n",
    "\n",
    "print (llista)\n",
    "\n",
    "def simetria(llista):\n",
    "\n",
    "    if llista == llista[::-1]:\n",
    "        print ('La llista és simètrica ' + f'i té {len(llista)} elements')\n",
    "        \n",
    "    else :\n",
    "        print ('La llista no és simètrica')\n",
    "\n",
    "simetria(llista)\n"
   ]
  },
  {
   "cell_type": "markdown",
   "id": "4311ca58",
   "metadata": {},
   "source": [
    "### Exercici 5\n",
    "***\n",
    "\n",
    "Crea una funció que donada una llista, et digui quants números coincideixen amb la seva posició. Per exemple [3,4,2,0,2,3,6] el 2 i el 6 coincideixen."
   ]
  },
  {
   "cell_type": "code",
   "execution_count": 1,
   "id": "1f20c429",
   "metadata": {
    "scrolled": false
   },
   "outputs": [
    {
     "name": "stdout",
     "output_type": "stream",
     "text": [
      "[3, 4, 2, 0, 2, 3, 6]\n",
      "En la llista 2 números coincideixen amb la seva posició\n"
     ]
    }
   ],
   "source": [
    "llista = [3, 4, 2, 0, 2, 3, 6]\n",
    "\n",
    "print (llista)\n",
    "\n",
    "def coin_numero(llista):\n",
    "    coincidencia = 0\n",
    "    \n",
    "    for i, num in enumerate(llista):\n",
    "        \n",
    "        if i == num:\n",
    "            coincidencia += 1\n",
    "            \n",
    "    return coincidencia\n",
    "\n",
    "\n",
    "resultat = coin_numero(llista)\n",
    "\n",
    "print(f'En la llista {resultat} números coincideixen amb la seva posició')\n"
   ]
  },
  {
   "cell_type": "code",
   "execution_count": null,
   "id": "0faa94a3",
   "metadata": {},
   "outputs": [],
   "source": []
  }
 ],
 "metadata": {
  "kernelspec": {
   "display_name": "Python 3 (ipykernel)",
   "language": "python",
   "name": "python3"
  },
  "language_info": {
   "codemirror_mode": {
    "name": "ipython",
    "version": 3
   },
   "file_extension": ".py",
   "mimetype": "text/x-python",
   "name": "python",
   "nbconvert_exporter": "python",
   "pygments_lexer": "ipython3",
   "version": "3.10.9"
  }
 },
 "nbformat": 4,
 "nbformat_minor": 5
}
